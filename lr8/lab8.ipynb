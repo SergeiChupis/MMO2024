{
  "cells": [
    {
      "cell_type": "markdown",
      "metadata": {
        "id": "GL56whFAvNE3"
      },
      "source": [
        "# Задание лабораторной работы\n"
      ]
    },
    {
      "cell_type": "markdown",
      "metadata": {
        "id": "jFP0R4S4vPrJ"
      },
      "source": [
        "Для произвольного предложения или текста решить следующие задачи:\n",
        "\n",
        "- Токенизация.\n",
        "- Частеречная разметка.\n",
        "- Лемматизация.\n",
        "- Выделение (распознавание) именованных сущностей.\n",
        "- Разбор предложения."
      ]
    },
    {
      "cell_type": "markdown",
      "metadata": {
        "id": "84yMTQdlvVjr"
      },
      "source": [
        "# Выполнение работы"
      ]
    },
    {
      "cell_type": "markdown",
      "metadata": {
        "id": "AQgGeX_We4fS"
      },
      "source": [
        "Исходный текст:"
      ]
    },
    {
      "cell_type": "code",
      "execution_count": 1,
      "metadata": {
        "id": "0sXtae-Ce1KW"
      },
      "outputs": [],
      "source": [
        "text = 'Во дворе флигель патологоанатома с вывеской над дверью: \"Добро пожаловать! - Эй, новенький! Заходи! - закричал он мне, приветливо размахивая топором.'"
      ]
    },
    {
      "cell_type": "markdown",
      "metadata": {
        "id": "iQtUryzKCbHp"
      },
      "source": [
        "## Токенизация"
      ]
    },
    {
      "cell_type": "code",
      "execution_count": 2,
      "metadata": {
        "colab": {
          "base_uri": "https://localhost:8080/"
        },
        "id": "m1rC9H2WfB9C",
        "outputId": "f4fae10c-1779-4246-a2f7-6cd514c9f59d"
      },
      "outputs": [
        {
          "output_type": "stream",
          "name": "stdout",
          "text": [
            "Requirement already satisfied: nltk in /usr/local/lib/python3.10/dist-packages (3.8.1)\n",
            "Requirement already satisfied: click in /usr/local/lib/python3.10/dist-packages (from nltk) (8.1.7)\n",
            "Requirement already satisfied: joblib in /usr/local/lib/python3.10/dist-packages (from nltk) (1.4.2)\n",
            "Requirement already satisfied: regex>=2021.8.3 in /usr/local/lib/python3.10/dist-packages (from nltk) (2024.5.15)\n",
            "Requirement already satisfied: tqdm in /usr/local/lib/python3.10/dist-packages (from nltk) (4.66.4)\n"
          ]
        }
      ],
      "source": [
        "!pip install nltk"
      ]
    },
    {
      "cell_type": "code",
      "execution_count": 3,
      "metadata": {
        "colab": {
          "base_uri": "https://localhost:8080/"
        },
        "id": "TR7kstn5fpY0",
        "outputId": "9d40433b-c7d1-45f7-991b-55091f1de3f5"
      },
      "outputs": [
        {
          "output_type": "stream",
          "name": "stderr",
          "text": [
            "[nltk_data] Downloading package punkt to /root/nltk_data...\n",
            "[nltk_data]   Unzipping tokenizers/punkt.zip.\n"
          ]
        },
        {
          "output_type": "execute_result",
          "data": {
            "text/plain": [
              "True"
            ]
          },
          "metadata": {},
          "execution_count": 3
        }
      ],
      "source": [
        "import nltk\n",
        "from nltk.tokenize import punkt\n",
        "nltk.download('punkt')"
      ]
    },
    {
      "cell_type": "code",
      "execution_count": 4,
      "metadata": {
        "colab": {
          "base_uri": "https://localhost:8080/"
        },
        "id": "jmibViQzfrEe",
        "outputId": "7cf511da-55bc-4409-8d5c-d7f8ce63235e"
      },
      "outputs": [
        {
          "output_type": "execute_result",
          "data": {
            "text/plain": [
              "['BlanklineTokenizer',\n",
              " 'LegalitySyllableTokenizer',\n",
              " 'LineTokenizer',\n",
              " 'MWETokenizer',\n",
              " 'NLTKWordTokenizer',\n",
              " 'PunktSentenceTokenizer',\n",
              " 'RegexpTokenizer',\n",
              " 'ReppTokenizer',\n",
              " 'SExprTokenizer',\n",
              " 'SpaceTokenizer',\n",
              " 'StanfordSegmenter',\n",
              " 'SyllableTokenizer',\n",
              " 'TabTokenizer',\n",
              " 'TextTilingTokenizer',\n",
              " 'ToktokTokenizer',\n",
              " 'TreebankWordDetokenizer',\n",
              " 'TreebankWordTokenizer',\n",
              " 'TweetTokenizer']"
            ]
          },
          "metadata": {},
          "execution_count": 4
        }
      ],
      "source": [
        "from nltk import tokenize\n",
        "dir(tokenize)[:18]"
      ]
    },
    {
      "cell_type": "code",
      "execution_count": 5,
      "metadata": {
        "colab": {
          "base_uri": "https://localhost:8080/"
        },
        "id": "1wFV57trftNt",
        "outputId": "1ed71b8e-44ce-451d-c324-81c843b84279"
      },
      "outputs": [
        {
          "output_type": "execute_result",
          "data": {
            "text/plain": [
              "['Во',\n",
              " 'дворе',\n",
              " 'флигель',\n",
              " 'патологоанатома',\n",
              " 'с',\n",
              " 'вывеской',\n",
              " 'над',\n",
              " 'дверью',\n",
              " ':',\n",
              " '\"',\n",
              " 'Добро',\n",
              " 'пожаловать',\n",
              " '!',\n",
              " '-',\n",
              " 'Эй',\n",
              " ',',\n",
              " 'новенький',\n",
              " '!',\n",
              " 'Заходи',\n",
              " '!',\n",
              " '-',\n",
              " 'закричал',\n",
              " 'он',\n",
              " 'мне',\n",
              " ',',\n",
              " 'приветливо',\n",
              " 'размахивая',\n",
              " 'топором',\n",
              " '.']"
            ]
          },
          "metadata": {},
          "execution_count": 5
        }
      ],
      "source": [
        "nltk_tk = nltk.WordPunctTokenizer()\n",
        "nltk_tk.tokenize(text)"
      ]
    },
    {
      "cell_type": "markdown",
      "metadata": {
        "id": "D00Gf9QOf0bE"
      },
      "source": [
        "Токенизация по предложениям:"
      ]
    },
    {
      "cell_type": "code",
      "execution_count": 6,
      "metadata": {
        "colab": {
          "base_uri": "https://localhost:8080/"
        },
        "id": "3Ee7XMWEfv_o",
        "outputId": "51c605c7-4556-4ed0-9b26-bc9915c2ca7f"
      },
      "outputs": [
        {
          "output_type": "stream",
          "name": "stdout",
          "text": [
            "4\n"
          ]
        },
        {
          "output_type": "execute_result",
          "data": {
            "text/plain": [
              "['Во дворе флигель патологоанатома с вывеской над дверью: \"Добро пожаловать!',\n",
              " '- Эй, новенький!',\n",
              " 'Заходи!',\n",
              " '- закричал он мне, приветливо размахивая топором.']"
            ]
          },
          "metadata": {},
          "execution_count": 6
        }
      ],
      "source": [
        "nltk_tk_sents = nltk.tokenize.sent_tokenize(text)\n",
        "print(len(nltk_tk_sents))\n",
        "nltk_tk_sents"
      ]
    },
    {
      "cell_type": "code",
      "execution_count": 7,
      "metadata": {
        "colab": {
          "base_uri": "https://localhost:8080/"
        },
        "id": "zIgjHS_hf3D-",
        "outputId": "d627c59b-1c57-47bc-ecdc-e47720f044a9"
      },
      "outputs": [
        {
          "output_type": "stream",
          "name": "stdout",
          "text": [
            "Collecting razdel\n",
            "  Downloading razdel-0.5.0-py3-none-any.whl (21 kB)\n",
            "Installing collected packages: razdel\n",
            "Successfully installed razdel-0.5.0\n"
          ]
        }
      ],
      "source": [
        "!pip install razdel"
      ]
    },
    {
      "cell_type": "code",
      "execution_count": 8,
      "metadata": {
        "id": "pBoNE3f4f8zs"
      },
      "outputs": [],
      "source": [
        "from razdel import tokenize, sentenize"
      ]
    },
    {
      "cell_type": "code",
      "execution_count": 9,
      "metadata": {
        "colab": {
          "base_uri": "https://localhost:8080/"
        },
        "id": "ODq0xuetf_3Y",
        "outputId": "9e32ec7d-d578-4e35-f49d-990b83cb30dc"
      },
      "outputs": [
        {
          "output_type": "execute_result",
          "data": {
            "text/plain": [
              "[Substring(0, 2, 'Во'),\n",
              " Substring(3, 8, 'дворе'),\n",
              " Substring(9, 16, 'флигель'),\n",
              " Substring(17, 32, 'патологоанатома'),\n",
              " Substring(33, 34, 'с'),\n",
              " Substring(35, 43, 'вывеской'),\n",
              " Substring(44, 47, 'над'),\n",
              " Substring(48, 54, 'дверью'),\n",
              " Substring(54, 55, ':'),\n",
              " Substring(56, 57, '\"'),\n",
              " Substring(57, 62, 'Добро'),\n",
              " Substring(63, 73, 'пожаловать'),\n",
              " Substring(73, 74, '!'),\n",
              " Substring(75, 76, '-'),\n",
              " Substring(77, 79, 'Эй'),\n",
              " Substring(79, 80, ','),\n",
              " Substring(81, 90, 'новенький'),\n",
              " Substring(90, 91, '!'),\n",
              " Substring(92, 98, 'Заходи'),\n",
              " Substring(98, 99, '!'),\n",
              " Substring(100, 101, '-'),\n",
              " Substring(102, 110, 'закричал'),\n",
              " Substring(111, 113, 'он'),\n",
              " Substring(114, 117, 'мне'),\n",
              " Substring(117, 118, ','),\n",
              " Substring(119, 129, 'приветливо'),\n",
              " Substring(130, 140, 'размахивая'),\n",
              " Substring(141, 148, 'топором'),\n",
              " Substring(148, 149, '.')]"
            ]
          },
          "metadata": {},
          "execution_count": 9
        }
      ],
      "source": [
        "n_tok_text = list(tokenize(text))\n",
        "n_tok_text"
      ]
    },
    {
      "cell_type": "code",
      "execution_count": 10,
      "metadata": {
        "colab": {
          "base_uri": "https://localhost:8080/"
        },
        "id": "7VX0MCdagAIS",
        "outputId": "fc718757-3a50-49fc-fca4-21288f3f0f5e"
      },
      "outputs": [
        {
          "output_type": "execute_result",
          "data": {
            "text/plain": [
              "['Во',\n",
              " 'дворе',\n",
              " 'флигель',\n",
              " 'патологоанатома',\n",
              " 'с',\n",
              " 'вывеской',\n",
              " 'над',\n",
              " 'дверью',\n",
              " ':',\n",
              " '\"',\n",
              " 'Добро',\n",
              " 'пожаловать',\n",
              " '!',\n",
              " '-',\n",
              " 'Эй',\n",
              " ',',\n",
              " 'новенький',\n",
              " '!',\n",
              " 'Заходи',\n",
              " '!',\n",
              " '-',\n",
              " 'закричал',\n",
              " 'он',\n",
              " 'мне',\n",
              " ',',\n",
              " 'приветливо',\n",
              " 'размахивая',\n",
              " 'топором',\n",
              " '.']"
            ]
          },
          "metadata": {},
          "execution_count": 10
        }
      ],
      "source": [
        "[_.text for _ in n_tok_text]"
      ]
    },
    {
      "cell_type": "code",
      "execution_count": 11,
      "metadata": {
        "colab": {
          "base_uri": "https://localhost:8080/"
        },
        "id": "0QhZzZ4bgCSO",
        "outputId": "320dade5-9442-4620-90a0-8863ebf16017"
      },
      "outputs": [
        {
          "output_type": "execute_result",
          "data": {
            "text/plain": [
              "[Substring(0,\n",
              "           74,\n",
              "           'Во дворе флигель патологоанатома с вывеской над дверью: \"Добро пожаловать!'),\n",
              " Substring(75, 91, '- Эй, новенький!'),\n",
              " Substring(92,\n",
              "           149,\n",
              "           'Заходи! - закричал он мне, приветливо размахивая топором.')]"
            ]
          },
          "metadata": {},
          "execution_count": 11
        }
      ],
      "source": [
        "n_sen_text = list(sentenize(text))\n",
        "n_sen_text"
      ]
    },
    {
      "cell_type": "code",
      "execution_count": 12,
      "metadata": {
        "colab": {
          "base_uri": "https://localhost:8080/"
        },
        "id": "FzwZgddHgEZW",
        "outputId": "96a45c0a-9837-49aa-bf5f-476a6f3fa71b"
      },
      "outputs": [
        {
          "output_type": "execute_result",
          "data": {
            "text/plain": [
              "(['Во дворе флигель патологоанатома с вывеской над дверью: \"Добро пожаловать!',\n",
              "  '- Эй, новенький!',\n",
              "  'Заходи! - закричал он мне, приветливо размахивая топором.'],\n",
              " 3)"
            ]
          },
          "metadata": {},
          "execution_count": 12
        }
      ],
      "source": [
        "[_.text for _ in n_sen_text], len([_.text for _ in n_sen_text])"
      ]
    },
    {
      "cell_type": "markdown",
      "metadata": {
        "id": "YVyOtiKsgHZ1"
      },
      "source": [
        "Токенизация для последующей обработки:"
      ]
    },
    {
      "cell_type": "code",
      "execution_count": 13,
      "metadata": {
        "id": "1XHWtSVwgGxc"
      },
      "outputs": [],
      "source": [
        "def n_sentenize(text):\n",
        "    n_sen_chunk = []\n",
        "    for sent in sentenize(text):\n",
        "        tokens = [_.text for _ in tokenize(sent.text)]\n",
        "        n_sen_chunk.append(tokens)\n",
        "    return n_sen_chunk"
      ]
    },
    {
      "cell_type": "code",
      "execution_count": 14,
      "metadata": {
        "colab": {
          "base_uri": "https://localhost:8080/"
        },
        "id": "mlxIREYJgL2b",
        "outputId": "4a98e434-5e88-4db0-a1ec-94425e668833"
      },
      "outputs": [
        {
          "output_type": "execute_result",
          "data": {
            "text/plain": [
              "[['Во',\n",
              "  'дворе',\n",
              "  'флигель',\n",
              "  'патологоанатома',\n",
              "  'с',\n",
              "  'вывеской',\n",
              "  'над',\n",
              "  'дверью',\n",
              "  ':',\n",
              "  '\"',\n",
              "  'Добро',\n",
              "  'пожаловать',\n",
              "  '!'],\n",
              " ['-', 'Эй', ',', 'новенький', '!'],\n",
              " ['Заходи',\n",
              "  '!',\n",
              "  '-',\n",
              "  'закричал',\n",
              "  'он',\n",
              "  'мне',\n",
              "  ',',\n",
              "  'приветливо',\n",
              "  'размахивая',\n",
              "  'топором',\n",
              "  '.']]"
            ]
          },
          "metadata": {},
          "execution_count": 14
        }
      ],
      "source": [
        "n_sen_chunk = n_sentenize(text)\n",
        "n_sen_chunk"
      ]
    },
    {
      "cell_type": "markdown",
      "metadata": {
        "id": "CaBD5J6ygV7E"
      },
      "source": [
        "## Частеричная разметка"
      ]
    },
    {
      "cell_type": "code",
      "execution_count": 15,
      "metadata": {
        "colab": {
          "base_uri": "https://localhost:8080/"
        },
        "id": "Hhr427zjgQ1z",
        "outputId": "6057b66b-5808-4fbc-ff5a-5ff50d31cade"
      },
      "outputs": [
        {
          "output_type": "stream",
          "name": "stdout",
          "text": [
            "Collecting navec\n",
            "  Downloading navec-0.10.0-py3-none-any.whl (23 kB)\n",
            "Requirement already satisfied: numpy in /usr/local/lib/python3.10/dist-packages (from navec) (1.25.2)\n",
            "Installing collected packages: navec\n",
            "Successfully installed navec-0.10.0\n",
            "Collecting slovnet\n",
            "  Downloading slovnet-0.6.0-py3-none-any.whl (46 kB)\n",
            "\u001b[2K     \u001b[90m━━━━━━━━━━━━━━━━━━━━━━━━━━━━━━━━━━━━━━━━\u001b[0m \u001b[32m46.7/46.7 kB\u001b[0m \u001b[31m1.7 MB/s\u001b[0m eta \u001b[36m0:00:00\u001b[0m\n",
            "\u001b[?25hRequirement already satisfied: numpy in /usr/local/lib/python3.10/dist-packages (from slovnet) (1.25.2)\n",
            "Requirement already satisfied: razdel in /usr/local/lib/python3.10/dist-packages (from slovnet) (0.5.0)\n",
            "Requirement already satisfied: navec in /usr/local/lib/python3.10/dist-packages (from slovnet) (0.10.0)\n",
            "Installing collected packages: slovnet\n",
            "Successfully installed slovnet-0.6.0\n"
          ]
        }
      ],
      "source": [
        "!pip install navec\n",
        "!pip install slovnet"
      ]
    },
    {
      "cell_type": "code",
      "execution_count": 20,
      "metadata": {
        "id": "e27nglYTgciD"
      },
      "outputs": [],
      "source": [
        "from navec import Navec\n",
        "from slovnet import Morph"
      ]
    },
    {
      "cell_type": "code",
      "execution_count": 24,
      "metadata": {
        "id": "RPF1Z-A5gfgG"
      },
      "outputs": [],
      "source": [
        "# Файл необходимо скачать по ссылке https://github.com/natasha/navec#downloads\n",
        "navec = Navec.load('navec_news_v1_1B_250K_300d_100q.tar')"
      ]
    },
    {
      "cell_type": "code",
      "execution_count": 25,
      "metadata": {
        "id": "00Y1UxnYgh-S"
      },
      "outputs": [],
      "source": [
        "# Файл необходимо скачать по ссылке https://github.com/natasha/slovnet#downloads\n",
        "n_morph = Morph.load('slovnet_morph_news_v1.tar', batch_size=4)"
      ]
    },
    {
      "cell_type": "code",
      "execution_count": 26,
      "metadata": {
        "id": "sf7YOHn8gjYh"
      },
      "outputs": [],
      "source": [
        "morph_res = n_morph.navec(navec)"
      ]
    },
    {
      "cell_type": "code",
      "execution_count": 27,
      "metadata": {
        "id": "XwqyFGKXgkqf"
      },
      "outputs": [],
      "source": [
        "def print_pos(markup):\n",
        "    for token in markup.tokens:\n",
        "        print('{} - {}'.format(token.text, token.tag))\n"
      ]
    },
    {
      "cell_type": "code",
      "execution_count": 28,
      "metadata": {
        "id": "iQDet6g-gqvR",
        "colab": {
          "base_uri": "https://localhost:8080/"
        },
        "outputId": "0027718a-cff9-4e20-af05-ade78bd29f75"
      },
      "outputs": [
        {
          "output_type": "stream",
          "name": "stdout",
          "text": [
            "Во - ADP\n",
            "дворе - NOUN|Animacy=Inan|Case=Loc|Gender=Masc|Number=Sing\n",
            "флигель - NOUN|Animacy=Inan|Case=Nom|Gender=Masc|Number=Sing\n",
            "патологоанатома - NOUN|Animacy=Anim|Case=Gen|Gender=Masc|Number=Sing\n",
            "с - ADP\n",
            "вывеской - NOUN|Animacy=Inan|Case=Ins|Gender=Fem|Number=Sing\n",
            "над - ADP\n",
            "дверью - NOUN|Animacy=Inan|Case=Ins|Gender=Fem|Number=Sing\n",
            ": - PUNCT\n",
            "\" - PUNCT\n",
            "Добро - NOUN|Animacy=Inan|Case=Nom|Gender=Neut|Number=Sing\n",
            "пожаловать - VERB|Aspect=Perf|VerbForm=Inf|Voice=Act\n",
            "! - PUNCT\n",
            "- - PUNCT\n",
            "Эй - PROPN|Animacy=Anim|Case=Nom|Gender=Masc|Number=Sing\n",
            ", - PUNCT\n",
            "новенький - ADJ|Case=Nom|Degree=Pos|Gender=Masc|Number=Sing\n",
            "! - PUNCT\n",
            "Заходи - NOUN|Animacy=Inan|Case=Nom|Gender=Neut|Number=Sing\n",
            "! - PUNCT\n",
            "- - PUNCT\n",
            "закричал - VERB|Aspect=Perf|Gender=Masc|Mood=Ind|Number=Sing|Tense=Past|VerbForm=Fin|Voice=Act\n",
            "он - PRON|Case=Nom|Gender=Masc|Number=Sing|Person=3\n",
            "мне - PRON|Case=Dat|Number=Sing|Person=1\n",
            ", - PUNCT\n",
            "приветливо - VERB|Aspect=Imp|Mood=Ind|Number=Plur|Person=3|Tense=Pres|VerbForm=Fin|Voice=Act\n",
            "размахивая - VERB|Aspect=Imp|Tense=Pres|VerbForm=Conv|Voice=Act\n",
            "топором - NOUN|Animacy=Inan|Case=Ins|Gender=Masc|Number=Sing\n",
            ". - PUNCT\n"
          ]
        },
        {
          "output_type": "execute_result",
          "data": {
            "text/plain": [
              "[None, None, None]"
            ]
          },
          "metadata": {},
          "execution_count": 28
        }
      ],
      "source": [
        "n_text_markup = list(_ for _ in n_morph.map(n_sen_chunk))\n",
        "[print_pos(x) for x in n_text_markup]"
      ]
    },
    {
      "cell_type": "markdown",
      "metadata": {
        "id": "2Ac-t2ZGgvUL"
      },
      "source": [
        "## Лемматизация"
      ]
    },
    {
      "cell_type": "code",
      "execution_count": 29,
      "metadata": {
        "id": "eNjN_1VKgwOF",
        "colab": {
          "base_uri": "https://localhost:8080/"
        },
        "outputId": "3516b509-f379-4b4f-e89b-fba020acd9c8"
      },
      "outputs": [
        {
          "output_type": "stream",
          "name": "stdout",
          "text": [
            "Collecting natasha\n",
            "  Downloading natasha-1.6.0-py3-none-any.whl (34.4 MB)\n",
            "\u001b[2K     \u001b[90m━━━━━━━━━━━━━━━━━━━━━━━━━━━━━━━━━━━━━━━━\u001b[0m \u001b[32m34.4/34.4 MB\u001b[0m \u001b[31m15.0 MB/s\u001b[0m eta \u001b[36m0:00:00\u001b[0m\n",
            "\u001b[?25hCollecting pymorphy2 (from natasha)\n",
            "  Downloading pymorphy2-0.9.1-py3-none-any.whl (55 kB)\n",
            "\u001b[2K     \u001b[90m━━━━━━━━━━━━━━━━━━━━━━━━━━━━━━━━━━━━━━━━\u001b[0m \u001b[32m55.5/55.5 kB\u001b[0m \u001b[31m6.4 MB/s\u001b[0m eta \u001b[36m0:00:00\u001b[0m\n",
            "\u001b[?25hRequirement already satisfied: razdel>=0.5.0 in /usr/local/lib/python3.10/dist-packages (from natasha) (0.5.0)\n",
            "Requirement already satisfied: navec>=0.9.0 in /usr/local/lib/python3.10/dist-packages (from natasha) (0.10.0)\n",
            "Requirement already satisfied: slovnet>=0.6.0 in /usr/local/lib/python3.10/dist-packages (from natasha) (0.6.0)\n",
            "Collecting yargy>=0.16.0 (from natasha)\n",
            "  Downloading yargy-0.16.0-py3-none-any.whl (33 kB)\n",
            "Collecting ipymarkup>=0.8.0 (from natasha)\n",
            "  Downloading ipymarkup-0.9.0-py3-none-any.whl (14 kB)\n",
            "Collecting intervaltree>=3 (from ipymarkup>=0.8.0->natasha)\n",
            "  Downloading intervaltree-3.1.0.tar.gz (32 kB)\n",
            "  Preparing metadata (setup.py) ... \u001b[?25l\u001b[?25hdone\n",
            "Requirement already satisfied: numpy in /usr/local/lib/python3.10/dist-packages (from navec>=0.9.0->natasha) (1.25.2)\n",
            "Collecting dawg-python>=0.7.1 (from pymorphy2->natasha)\n",
            "  Downloading DAWG_Python-0.7.2-py2.py3-none-any.whl (11 kB)\n",
            "Collecting pymorphy2-dicts-ru<3.0,>=2.4 (from pymorphy2->natasha)\n",
            "  Downloading pymorphy2_dicts_ru-2.4.417127.4579844-py2.py3-none-any.whl (8.2 MB)\n",
            "\u001b[2K     \u001b[90m━━━━━━━━━━━━━━━━━━━━━━━━━━━━━━━━━━━━━━━━\u001b[0m \u001b[32m8.2/8.2 MB\u001b[0m \u001b[31m61.5 MB/s\u001b[0m eta \u001b[36m0:00:00\u001b[0m\n",
            "\u001b[?25hCollecting docopt>=0.6 (from pymorphy2->natasha)\n",
            "  Downloading docopt-0.6.2.tar.gz (25 kB)\n",
            "  Preparing metadata (setup.py) ... \u001b[?25l\u001b[?25hdone\n",
            "Requirement already satisfied: sortedcontainers<3.0,>=2.0 in /usr/local/lib/python3.10/dist-packages (from intervaltree>=3->ipymarkup>=0.8.0->natasha) (2.4.0)\n",
            "Building wheels for collected packages: docopt, intervaltree\n",
            "  Building wheel for docopt (setup.py) ... \u001b[?25l\u001b[?25hdone\n",
            "  Created wheel for docopt: filename=docopt-0.6.2-py2.py3-none-any.whl size=13706 sha256=54001ed5c25e287f05e169b3ba10266cde66d1bc19c6181d4b12b3fc14485584\n",
            "  Stored in directory: /root/.cache/pip/wheels/fc/ab/d4/5da2067ac95b36618c629a5f93f809425700506f72c9732fac\n",
            "  Building wheel for intervaltree (setup.py) ... \u001b[?25l\u001b[?25hdone\n",
            "  Created wheel for intervaltree: filename=intervaltree-3.1.0-py2.py3-none-any.whl size=26096 sha256=8007d7ec0a28f58910619a5edc0c3e088288acd2b3fd6499d64897fe492a007c\n",
            "  Stored in directory: /root/.cache/pip/wheels/fa/80/8c/43488a924a046b733b64de3fac99252674c892a4c3801c0a61\n",
            "Successfully built docopt intervaltree\n",
            "Installing collected packages: pymorphy2-dicts-ru, docopt, dawg-python, pymorphy2, intervaltree, yargy, ipymarkup, natasha\n",
            "Successfully installed dawg-python-0.7.2 docopt-0.6.2 intervaltree-3.1.0 ipymarkup-0.9.0 natasha-1.6.0 pymorphy2-0.9.1 pymorphy2-dicts-ru-2.4.417127.4579844 yargy-0.16.0\n",
            "Requirement already satisfied: setuptools in /usr/local/lib/python3.10/dist-packages (67.7.2)\n"
          ]
        }
      ],
      "source": [
        "!pip install natasha\n",
        "!pip install setuptools"
      ]
    },
    {
      "cell_type": "code",
      "execution_count": 30,
      "metadata": {
        "id": "R84BXatYg2t_"
      },
      "outputs": [],
      "source": [
        "from natasha import Doc, Segmenter, NewsEmbedding, NewsMorphTagger, MorphVocab"
      ]
    },
    {
      "cell_type": "code",
      "execution_count": 31,
      "metadata": {
        "id": "z2op8QFMg3-v"
      },
      "outputs": [],
      "source": [
        "def n_lemmatize(text):\n",
        "    emb = NewsEmbedding()\n",
        "    morph_tagger = NewsMorphTagger(emb)\n",
        "    segmenter = Segmenter()\n",
        "    morph_vocab = MorphVocab()\n",
        "    doc = Doc(text)\n",
        "    doc.segment(segmenter)\n",
        "    doc.tag_morph(morph_tagger)\n",
        "    for token in doc.tokens:\n",
        "        token.lemmatize(morph_vocab)\n",
        "    return doc"
      ]
    },
    {
      "cell_type": "code",
      "execution_count": 32,
      "metadata": {
        "id": "Z8BCSF6jg5G7",
        "colab": {
          "base_uri": "https://localhost:8080/"
        },
        "outputId": "f1c41cd3-9986-439e-f6b5-19887415e90c"
      },
      "outputs": [
        {
          "output_type": "execute_result",
          "data": {
            "text/plain": [
              "{'Во': 'в',\n",
              " 'дворе': 'двор',\n",
              " 'флигель': 'флигель',\n",
              " 'патологоанатома': 'патологоанатом',\n",
              " 'с': 'с',\n",
              " 'вывеской': 'вывеска',\n",
              " 'над': 'над',\n",
              " 'дверью': 'дверь',\n",
              " ':': ':',\n",
              " '\"': '\"',\n",
              " 'Добро': 'добро',\n",
              " 'пожаловать': 'пожаловать',\n",
              " '!': '!',\n",
              " '-': '-',\n",
              " 'Эй': 'эй',\n",
              " ',': ',',\n",
              " 'новенький': 'новенький',\n",
              " 'Заходи': 'заходить',\n",
              " 'закричал': 'закричать',\n",
              " 'он': 'он',\n",
              " 'мне': 'я',\n",
              " 'приветливо': 'приветливо',\n",
              " 'размахивая': 'размахивать',\n",
              " 'топором': 'топор',\n",
              " '.': '.'}"
            ]
          },
          "metadata": {},
          "execution_count": 32
        }
      ],
      "source": [
        "n_doc = n_lemmatize(text)\n",
        "{_.text: _.lemma for _ in n_doc.tokens}"
      ]
    },
    {
      "cell_type": "markdown",
      "metadata": {
        "id": "NIJTzNjKg88M"
      },
      "source": [
        "## Выделение (распознавание) именованных сущностей"
      ]
    },
    {
      "cell_type": "code",
      "execution_count": 33,
      "metadata": {
        "id": "TgDmEwvDhBrf",
        "colab": {
          "base_uri": "https://localhost:8080/"
        },
        "outputId": "aff0be5e-87b4-4436-924e-c32ca6e4ec10"
      },
      "outputs": [
        {
          "output_type": "stream",
          "name": "stdout",
          "text": [
            "Requirement already satisfied: ipymarkup in /usr/local/lib/python3.10/dist-packages (0.9.0)\n",
            "Requirement already satisfied: intervaltree>=3 in /usr/local/lib/python3.10/dist-packages (from ipymarkup) (3.1.0)\n",
            "Requirement already satisfied: sortedcontainers<3.0,>=2.0 in /usr/local/lib/python3.10/dist-packages (from intervaltree>=3->ipymarkup) (2.4.0)\n"
          ]
        }
      ],
      "source": [
        "!pip install ipymarkup"
      ]
    },
    {
      "cell_type": "code",
      "execution_count": 34,
      "metadata": {
        "id": "NgVuC8UVhAT-"
      },
      "outputs": [],
      "source": [
        "from slovnet import NER\n",
        "from ipymarkup import show_span_ascii_markup as show_markup"
      ]
    },
    {
      "cell_type": "code",
      "execution_count": 36,
      "metadata": {
        "id": "p_HbWAgxhDm5"
      },
      "outputs": [],
      "source": [
        "# Файл необходимо скачать по ссылке https://github.com/natasha/slovnet#downloads\n",
        "ner = NER.load('slovnet_ner_news_v1.tar')\n",
        "ner_res = ner.navec(navec)\n",
        "markup_ner = ner(text)"
      ]
    },
    {
      "cell_type": "code",
      "execution_count": 37,
      "metadata": {
        "id": "1FIZ1yDthGCo",
        "colab": {
          "base_uri": "https://localhost:8080/"
        },
        "outputId": "742fcb87-02fa-4901-e1e8-714666d41e01"
      },
      "outputs": [
        {
          "output_type": "execute_result",
          "data": {
            "text/plain": [
              "SpanMarkup(\n",
              "    text='Во дворе флигель патологоанатома с вывеской над дверью: \"Добро пожаловать! - Эй, новенький! Заходи! - закричал он мне, приветливо размахивая топором.',\n",
              "    spans=[]\n",
              ")"
            ]
          },
          "metadata": {},
          "execution_count": 37
        }
      ],
      "source": [
        "markup_ner"
      ]
    },
    {
      "cell_type": "code",
      "execution_count": 38,
      "metadata": {
        "id": "dAeHAsGRhH0q",
        "colab": {
          "base_uri": "https://localhost:8080/"
        },
        "outputId": "ffd00757-f53d-4313-ec92-fc03039e9358"
      },
      "outputs": [
        {
          "output_type": "stream",
          "name": "stdout",
          "text": [
            "Во дворе флигель патологоанатома с вывеской над дверью: \"Добро \n",
            "пожаловать! - Эй, новенький! Заходи! - закричал он мне, приветливо \n",
            "размахивая топором.\n"
          ]
        }
      ],
      "source": [
        "show_markup(markup_ner.text, markup_ner.spans)"
      ]
    },
    {
      "cell_type": "markdown",
      "metadata": {
        "id": "whdu3U_ghNNi"
      },
      "source": [
        "## Разбор предложения"
      ]
    },
    {
      "cell_type": "code",
      "execution_count": 39,
      "metadata": {
        "id": "WS7u3k7lhP1l"
      },
      "outputs": [],
      "source": [
        "from natasha import NewsSyntaxParser"
      ]
    },
    {
      "cell_type": "code",
      "execution_count": 40,
      "metadata": {
        "id": "sV4ciewPhRLu"
      },
      "outputs": [],
      "source": [
        "emb = NewsEmbedding()\n",
        "syntax_parser = NewsSyntaxParser(emb)"
      ]
    },
    {
      "cell_type": "code",
      "execution_count": 41,
      "metadata": {
        "id": "Q_mWdl1thSUk",
        "colab": {
          "base_uri": "https://localhost:8080/"
        },
        "outputId": "3f89e80e-6729-491c-c351-999b7af0e76f"
      },
      "outputs": [
        {
          "output_type": "stream",
          "name": "stdout",
          "text": [
            "        ┌► Во              case\n",
            "┌───┌─┌►└─ дворе           nmod\n",
            "│   └►└─┌─ флигель         nmod\n",
            "│     ┌─└► патологоанатома nmod\n",
            "│     │ ┌► с               case\n",
            "│   ┌─└►└─ вывеской        nmod\n",
            "│   │   ┌► над             case\n",
            "│ ┌─└──►└─ дверью          nmod\n",
            "│ │   ┌──► :               punct\n",
            "│ │   │ ┌► \"               punct\n",
            "│ └──►└─└─ Добро           parataxis\n",
            "│     └──► пожаловать      advmod\n",
            "└────────► !               punct\n"
          ]
        }
      ],
      "source": [
        "n_doc.parse_syntax(syntax_parser)\n",
        "n_doc.sents[0].syntax.print()"
      ]
    }
  ],
  "metadata": {
    "colab": {
      "provenance": []
    },
    "kernelspec": {
      "display_name": "Python 3 (ipykernel)",
      "language": "python",
      "name": "python3"
    },
    "language_info": {
      "codemirror_mode": {
        "name": "ipython",
        "version": 3
      },
      "file_extension": ".py",
      "mimetype": "text/x-python",
      "name": "python",
      "nbconvert_exporter": "python",
      "pygments_lexer": "ipython3",
      "version": "3.9.7"
    }
  },
  "nbformat": 4,
  "nbformat_minor": 0
}